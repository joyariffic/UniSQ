{
 "cells": [
  {
   "cell_type": "code",
   "execution_count": null,
   "id": "a7434efd",
   "metadata": {},
   "outputs": [
    {
     "name": "stdout",
     "output_type": "stream",
     "text": [
      "Enter your first namejoya\n",
      "Enter your surnamewright\n",
      "Enter your date of birth in format yyyy-mm-dd1991-03-31\n",
      "invalid Entry\n",
      "Enter your permit number or enter 'END'to terminate this program01234\n",
      "invalid entry\n",
      "Given Name:joya\n",
      "Surname:wright\n",
      "Birth date:1991-03-31\n",
      "Permit no:01234\n",
      "Enter your first namejoya\n",
      "Enter your surnamewright\n",
      "Enter your date of birth in format yyyy-mm-dd1991-03-31\n",
      "invalid Entry\n",
      "Enter your permit number or enter 'END'to terminate this program012345567\n",
      "invalid entry\n",
      "Given Name:joya\n",
      "Surname:wright\n",
      "Birth date:1991-03-31\n",
      "Permit no:012345567\n"
     ]
    }
   ],
   "source": [
    "def add_records():\n",
    "    while True:\n",
    "        add_givenname=input(\"Enter your first name\")\n",
    "        add_surname=input(\"Enter your surname\")\n",
    "        add_dob=input(\"Enter your date of birth in format yyyy-mm-dd\")\n",
    "        if add_dob[6]!=0 or add_dob !=1 or add_dob[7]>9:\n",
    "            print(\"invalid Entry\")\n",
    "        else:\n",
    "            continue\n",
    "        add_permit=input(\"Enter your permit number or enter 'END'to terminate this program\")\n",
    "        if add_permit=='END':\n",
    "            break\n",
    "        elif add_permit[0]!=0 or len(add_permit)!=9:\n",
    "            print(\"invalid entry\")      \n",
    "        else:\n",
    "            continue\n",
    "        print(\"Given Name:\"+ add_givenname, end='\\n')\n",
    "        print(\"Surname:\"+ add_surname, end='\\n')\n",
    "        print(\"Birth date:\"+ add_dob, end='\\n')\n",
    "        print(\"Permit no:\"+ add_permit)\n",
    "add_records()"
   ]
  },
  {
   "cell_type": "code",
   "execution_count": null,
   "id": "b08afb2d",
   "metadata": {},
   "outputs": [],
   "source": []
  },
  {
   "cell_type": "code",
   "execution_count": null,
   "id": "df1930d3",
   "metadata": {},
   "outputs": [],
   "source": []
  }
 ],
 "metadata": {
  "kernelspec": {
   "display_name": "Python 3 (ipykernel)",
   "language": "python",
   "name": "python3"
  },
  "language_info": {
   "codemirror_mode": {
    "name": "ipython",
    "version": 3
   },
   "file_extension": ".py",
   "mimetype": "text/x-python",
   "name": "python",
   "nbconvert_exporter": "python",
   "pygments_lexer": "ipython3",
   "version": "3.9.13"
  }
 },
 "nbformat": 4,
 "nbformat_minor": 5
}
