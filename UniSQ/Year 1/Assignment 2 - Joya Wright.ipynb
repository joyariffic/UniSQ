while True: # used to start loop and obtain user input. Giving instructions to user on whatvto do and what inpu is valid
    user_word = input( " In lowercase only, enter one word containing only the letters 'h', 'i' , 'g' , 'l' , 'o' or 'w'.     One letter can appear more than once. If you wish to terminate the program, enter 'end'   ")

    
    def letter_h(): #creating the grid star h image and assigning it to the user inputted value of h
           result = ' '
           for row in range(6):
                    for column in range(6):
                        if (column == 1 or (column == 3 and row >2) or ((row == 3) and (column>1 and column < 4))):
                            result += "*"
                        else :
                            result += " "
                    result += "\n"
           return result
    
    if user_word == "h": #running conditional statement that will action the h() function if user inputs h and continuing the loop
        print(letter_h())
        continue
    
    def letter_i(): #creating the grid star i image and assigning it to the user inputted value of i
           result = ' '
           for row in range(6):
                    for column in range(6):
                        if column == 2 and row !=2:
                            result += "*"
                        else :
                            result += " "
                    result += "\n"
           return result
    
    if user_word == "i": #running conditional statement that will action the i() function if user inputs i and continuing the loop
        print(letter_i())
        continue
        
    def letter_g(): #creating the grid star g image and assigning it to the user inputted value of g
           result = ' '
           for row in range(6):
                    for column in range(6):
                        if column == 3 or (column == 2 and (row !=2 or row !=4)) or column == 1 and row !=4:
                            result += "*"
                        else :
                            result += " "
                    result += "\n"
           return result
    
    if user_word == "g": #running conditional statement that will action the g() function if user inputs g and continuing the loop
        print(letter_g())
        continue
                
    def letter_l(): #creating the grid star l image and assigning it to the user inputted value of l
           result = ' '
           for row in range(6):
                    for column in range(6):
                        if column == 2 and row <= 6:
                            result += "*"
                        else :
                            result += " "
                    result += "\n"
           return result
    
    if user_word == "l": #running conditional statement that will action the l() function if user inputs l and continuing the loop
        print(letter_l())
        continue
        
    def letter_o(): #creating the grid star o image and assigning it to the user inputted value of o
           result = ' '
           for row in range(6):
                    for column in range(6):
                        if column == 1 and  (row <5 and row>1) or column == 2 and (row == 1 or row == 5) or column == 3 and (row <5 and row>1):
                            result += "*"
                        else :
                            result += " "
                    result += "\n"
           return result
    
    if user_word == "o": #running conditional statement that will action the o() function if user inputs o and continuing the loop
        print(letter_o())
        continue
      
    def letter_w(): #creating the grid star w image and assigning it to the user inputted value of w
           result = ' '
           for row in range(6):
                    for column in range(6):
                        if column == 1 or column == 3 or column ==2 and row ==4:
                            result += "*"
                        else :
                            result += " "
                    result += "\n"
           return result
           
    if user_word == "w":  #running conditional statement that will action the o() function if user inputs o and continuing the loop
        print(letter_w())
        continue
         
    def hi(): #creating the grid star hi image and assigning it to the user inputted value of hi
         if user_word == "hi":
             print(letter_h()  +  letter_i())
            
    def high(): #creating the grid star high image and assigning it to the user inputted value of high
        if user_word == "high":
            print(letter_h()  +  letter_i()  +  letter_g()  +  letter_h())
            
    def go(): #creating the grid star go image and assigning it to the user inputted value of go
        if user_word == "go":
            print(letter_g() + letter_o())
            
    def low(): #creating the grid star low image and assigning it to the user inputted value of low
          if user_word == "low":
              print((letter_l()  +  letter_o()  +  letter_w()))
                               
    def end(): #creating the function end that will be utilized to end the loop
         if user_word == "end" or "End" or "End":
             print("Goodbye!")
        
    if user_word == "high": #calling on the high function
        print(high())
        continue
        
    if user_word == "hi": #calling on the hi function
        print(hi())
        continue
        
    if user_word == "go": # calling on the go function
        print(go())
        continue
       
    if user_word == "low": #calling on the low function
        print(low())
        continue    
        
    if user_word == "end" or "End" or "END": # calling on the end function and breaking the loop
        end()
        break
         
    if user_word != "h" or "i" or "g" or "l" or "o" or "w" or "high" or "low" or "end" or "End" or "END":
        print(" You have entered an invalid character, please try again")
        continue
        # creating an output for all invalid characters and giving users a chance to reenter
        


         

        